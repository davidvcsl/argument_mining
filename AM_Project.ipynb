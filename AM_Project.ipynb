{
 "cells": [
  {
   "cell_type": "markdown",
   "metadata": {},
   "source": [
    "# Pongamos a trabajar las redes neuronales de moda"
   ]
  },
  {
   "cell_type": "markdown",
   "metadata": {},
   "source": [
    "## Objetivos\n",
    "Basandonos en los repositorios de [UKPLab](https://github.com/UKPLab):\n",
    "\n",
    "- https://github.com/UKPLab/acl2017-neural_end2end_am (Argument minning con Lasagne)\n",
    "- https://github.com/UKPLab/emnlp2017-bilstm-cnn-crf (Etiquetado de secuencias)\n",
    "\n",
    "\n",
    "- Introducirnos en las redes neuronales usando el framework *Keras* conociendo sus distintos backends.\n",
    "- Conocer las diversas capas y sus utilidades.\n",
    "- Entender la arquitectura del proyecto actual.\n",
    "\n",
    "Adaptar el código para..\n",
    "- Utilizar la ultima version de Keras y TF para poder utilizar CNNs sin necesidad de usar otro backend.\n",
    "- Desarrollar un entorno para la identificación y etiquetado de argumentos en textos del idioma inglés.\n",
    "- Proponer alternativas de embeddings distintos para entrenamiento/evaluación.\n",
    "- Flexibilizar input para formato texto o formato CoNLL.\n",
    "- Reportar resultados con diversos parámetros."
   ]
  },
  {
   "cell_type": "markdown",
   "metadata": {},
   "source": [
    "## Algo de lo que aprendimos...  ``from keras.layers.import * ``"
   ]
  },
  {
   "cell_type": "markdown",
   "metadata": {},
   "source": [
    "Veamos para que sirven cada una de estas capas..\n",
    "\n",
    "- **CNN**:\n",
    "- **RNN**:\n",
    "- **LSTM**:\n",
    "- **Embedding**:\n",
    "- **Timedistributed**:\n"
   ]
  },
  {
   "cell_type": "markdown",
   "metadata": {},
   "source": [
    "## Parece una tarea sencilla.. Veamos las piedras en el camino..\n",
    "\n"
   ]
  },
  {
   "cell_type": "markdown",
   "metadata": {},
   "source": [
    "- **Que dificil es leer codigo ajeno..**\n",
    "- **Primer output**: Con un accuracy de 50% y al correr el modelo solo etiqueta MajorClaims..¿RunModel tiene un bug ó la efectividad reportada no es correcta? Ambos..\n",
    "\n",
    "- **Metricas por clase..**: Calculamos en cada epoch de entrenamiento la evolucion de todas sus categorias.\n",
    "\n",
    "```\n",
    "[Claim:Against]: Prec: 0.000, Rec: 0.000, F1: 0.0000\n",
    "[O]: Prec: 0.833, Rec: 0.414, F1: 0.5527\n",
    "[Premise:Support]: Prec: 0.492, Rec: 0.960, F1: 0.6504\n",
    "[Claim:For]: Prec: 0.000, Rec: 0.000, F1: 0.0000\n",
    "[Premise:Attack]: Prec: 0.000, Rec: 0.000, F1: 0.0000\n",
    "[Claim:Support:For]: Prec: 0.000, Rec: 0.000, F1: 0.0000\n",
    "[MajorClaim]: Prec: 0.000, Rec: 0.000, F1: 0.0000\n",
    "\n",
    "Max: 0.1719 on dev;\n",
    "```\n",
    "\n",
    "- **Archivos de etiquetado preliminares de cada epoch**: Generamos archivos preliminares de cada epoch siempre que la metrica f1 se incremente. ``/tmp/[f1_score]_[test o dev].txt\"``\n",
    "\n",
    "- **EarlyStopping no es buena idea..**: Desactivamos la heurística de dejar de entrenar luego de que en 5 epochs no se genere ninguna mejora. El modelo sigue mejorando..\n",
    "\n",
    "- **Probemos simplificar las etiquetas**: Mediante un script de python simplificamos las etiquetas (Claim, Premise, etc) en un modelo más simple que solo diferencia 4 etiquetas(am_simplest).\n",
    "\n",
    "- **Llegó Keras 2**: Upgrade de entorno a las ultimas versiones de Keras y TF. Ahora podemos usar CNN con TF!\n",
    "\n",
    "```\n",
    "__________________________________________________________________________________________________\n",
    "Layer (type)                    Output Shape         Param #     Connected to                     \n",
    "==================================================================================================\n",
    "token_emd (Embedding)           (None, None, 300)    52205700                \n",
    "__________________________________________________________________________________________________\n",
    "casing_emd (Embedding)          (None, None, 8)      64          \n",
    "__________________________________________________________________________________________________\n",
    "main_LSTM_1 (Bidirectional)     (None, None, 250)    434000      merge_1[0][0]              \n",
    "__________________________________________________________________________________________________\n",
    "softmax_output (TimeDistributed (None, None, 7)      1757        main_LSTM_1[0][0]                \n",
    "==================================================================================================\n",
    "\n",
    "\n",
    "__________________________________________________________________________________________________\n",
    "Layer (type)                    Output Shape         Param #     Connected to                     \n",
    "==================================================================================================\n",
    "token_emd_input (InputLayer)    (None, None)         0                                            \n",
    "__________________________________________________________________________________________________\n",
    "casing_emd_input (InputLayer)   (None, None)         0                                            \n",
    "__________________________________________________________________________________________________\n",
    "token_emd (Embedding)           (None, None, 300)    52205700    token_emd_input[0][0]            \n",
    "__________________________________________________________________________________________________\n",
    "casing_emd (Embedding)          (None, None, 8)      64          casing_emd_input[0][0]           \n",
    "__________________________________________________________________________________________________\n",
    "concatenate_1 (Concatenate)     (None, None, 308)    0           token_emd[0][0]                  \n",
    "                                                                 casing_emd[0][0]                 \n",
    "__________________________________________________________________________________________________\n",
    "main_LSTM_1 (Bidirectional)     (None, None, 250)    434000      concatenate_1[0][0]              \n",
    "__________________________________________________________________________________________________\n",
    "softmax_output (TimeDistributed (None, None, 7)      1757        main_LSTM_1[0][0]                \n",
    "==================================================================================================\n",
    "```\n"
   ]
  },
  {
   "cell_type": "markdown",
   "metadata": {},
   "source": [
    "## [¿Como crear un modelo simple?](BuildModel.ipynb)"
   ]
  },
  {
   "cell_type": "markdown",
   "metadata": {},
   "source": [
    "## [¿Que hace RunModel?](RunModel.ipynb)"
   ]
  },
  {
   "cell_type": "code",
   "execution_count": null,
   "metadata": {
    "collapsed": true
   },
   "outputs": [],
   "source": []
  }
 ],
 "metadata": {
  "kernelspec": {
   "display_name": "am_python2.7",
   "language": "python",
   "name": "am_python2.7"
  },
  "language_info": {
   "codemirror_mode": {
    "name": "ipython",
    "version": 2
   },
   "file_extension": ".py",
   "mimetype": "text/x-python",
   "name": "python",
   "nbconvert_exporter": "python",
   "pygments_lexer": "ipython2",
   "version": "2.7.12"
  }
 },
 "nbformat": 4,
 "nbformat_minor": 2
}
