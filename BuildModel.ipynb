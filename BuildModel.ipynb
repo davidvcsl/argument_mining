{
 "cells": [
  {
   "cell_type": "markdown",
   "metadata": {},
   "source": [
    "# Paso a paso creación de modelo simple."
   ]
  },
  {
   "cell_type": "code",
   "execution_count": 51,
   "metadata": {},
   "outputs": [],
   "source": [
    "from __future__ import print_function\n",
    "import json\n",
    "import h5py\n",
    "import keras\n",
    "from keras.models import Sequential\n",
    "from keras.layers import *\n",
    "from keras.optimizers import *\n",
    "from util.preprocessing import perpareDataset, loadDatasetPickle\n",
    "import random"
   ]
  },
  {
   "cell_type": "markdown",
   "metadata": {},
   "source": [
    "## Carga de dataset desde pkl (preproceso)"
   ]
  },
  {
   "cell_type": "code",
   "execution_count": 18,
   "metadata": {},
   "outputs": [],
   "source": [
    "embeddings, word2Idx, datasets = loadDatasetPickle(\"pkl/am_levy_deps.pkl\")\n",
    "dataset = datasets['am']\n",
    "casing2Idx = dataset['mappings']['casing']\n",
    "caseMatrix = np.identity(len(casing2Idx), dtype='float32')"
   ]
  },
  {
   "cell_type": "markdown",
   "metadata": {},
   "source": [
    "## Capas de embeddings"
   ]
  },
  {
   "cell_type": "code",
   "execution_count": 19,
   "metadata": {},
   "outputs": [
    {
     "name": "stdout",
     "output_type": "stream",
     "text": [
      "____________________________________________________________________________________________________\n",
      "Layer (type)                     Output Shape          Param #     Connected to                     \n",
      "====================================================================================================\n",
      "token_emd (Embedding)            (None, None, 300)     52205700    embedding_input_3[0][0]          \n",
      "____________________________________________________________________________________________________\n",
      "casing_emd (Embedding)           (None, None, 8)       64          embedding_input_4[0][0]          \n",
      "====================================================================================================\n",
      "Total params: 52,205,764\n",
      "Trainable params: 0\n",
      "Non-trainable params: 52,205,764\n",
      "____________________________________________________________________________________________________\n"
     ]
    }
   ],
   "source": [
    "tokens = Sequential()\n",
    "tokens.add(Embedding(input_dim=embeddings.shape[0], output_dim=embeddings.shape[1],  weights=[embeddings], trainable=False, name='token_emd'))\n",
    "\n",
    "casing = Sequential()\n",
    "casing.add(Embedding(input_dim=caseMatrix.shape[0], output_dim=caseMatrix.shape[1], weights=[caseMatrix], trainable=False, name='casing_emd')) \n",
    "\n",
    "mergeLayers = [tokens, casing]\n",
    "model = Sequential()\n",
    "model.add(Merge(mergeLayers, mode='concat'))\n",
    "\n",
    "model.summary()"
   ]
  },
  {
   "cell_type": "markdown",
   "metadata": {},
   "source": [
    "## Capa de LSTM Bidireccional"
   ]
  },
  {
   "cell_type": "code",
   "execution_count": 20,
   "metadata": {},
   "outputs": [
    {
     "name": "stdout",
     "output_type": "stream",
     "text": [
      "____________________________________________________________________________________________________\n",
      "Layer (type)                     Output Shape          Param #     Connected to                     \n",
      "====================================================================================================\n",
      "token_emd (Embedding)            (None, None, 300)     52205700    embedding_input_3[0][0]          \n",
      "____________________________________________________________________________________________________\n",
      "casing_emd (Embedding)           (None, None, 8)       64          embedding_input_4[0][0]          \n",
      "____________________________________________________________________________________________________\n",
      "varLSTM_ (Bidirectional)         (None, None, 300)     550800      merge_2[0][0]                    \n",
      "====================================================================================================\n",
      "Total params: 52,756,564\n",
      "Trainable params: 550,800\n",
      "Non-trainable params: 52,205,764\n",
      "____________________________________________________________________________________________________\n"
     ]
    }
   ],
   "source": [
    "size = 150\n",
    "model.add(Bidirectional(LSTM(size, return_sequences=True, dropout_W=0.25, dropout_U=0.25), name=\"varLSTM_\"))\n",
    "model.summary()"
   ]
  },
  {
   "cell_type": "markdown",
   "metadata": {},
   "source": [
    "## Capa de clasificación, funcion de pérdida y optimizador."
   ]
  },
  {
   "cell_type": "code",
   "execution_count": 11,
   "metadata": {},
   "outputs": [],
   "source": [
    "model.add(TimeDistributed(Dense(len(dataset['mappings']['AM_TAG']), activation='softmax'), name='softmax_output'))\n",
    "lossFct = 'sparse_categorical_crossentropy'\n",
    "optimizer = 'nadam'"
   ]
  },
  {
   "cell_type": "code",
   "execution_count": 21,
   "metadata": {},
   "outputs": [
    {
     "name": "stdout",
     "output_type": "stream",
     "text": [
      "____________________________________________________________________________________________________\n",
      "Layer (type)                     Output Shape          Param #     Connected to                     \n",
      "====================================================================================================\n",
      "token_emd (Embedding)            (None, None, 300)     52205700                                     \n",
      "____________________________________________________________________________________________________\n",
      "casing_emd (Embedding)           (None, None, 8)       64                                           \n",
      "____________________________________________________________________________________________________\n",
      "varLSTM_ (Bidirectional)         (None, None, 300)     550800      merge_2[0][0]                    \n",
      "====================================================================================================\n",
      "Total params: 52,756,564\n",
      "Trainable params: 550,800\n",
      "Non-trainable params: 52,205,764\n",
      "____________________________________________________________________________________________________\n"
     ]
    }
   ],
   "source": [
    "model.compile(loss=lossFct, optimizer=optimizer)\n",
    "model.summary()"
   ]
  },
  {
   "cell_type": "markdown",
   "metadata": {},
   "source": [
    "## Entrenamiento por lotes"
   ]
  },
  {
   "cell_type": "code",
   "execution_count": 42,
   "metadata": {},
   "outputs": [],
   "source": [
    "def online_iterate_dataset(dataset): \n",
    "    idxRange = list(range(0, len(dataset)))\n",
    "    random.shuffle(idxRange)\n",
    "\n",
    "    for idx in idxRange:\n",
    "            labels = []                \n",
    "            features = ['tokens', 'casing']                \n",
    "\n",
    "            labels = dataset[idx][\"AM_TAG\"]\n",
    "            labels = [labels]\n",
    "            labels = np.expand_dims(labels, -1)  \n",
    "\n",
    "            inputData = {}\n",
    "            for name in features:\n",
    "                inputData[name] = np.asarray([dataset[idx][name]])\n",
    "            yield [labels] + [inputData[name] for name in features] "
   ]
  },
  {
   "cell_type": "code",
   "execution_count": 43,
   "metadata": {},
   "outputs": [],
   "source": [
    "trainMatrix = dataset['trainMatrix']\n",
    "iterator = online_iterate_dataset(trainMatrix)"
   ]
  },
  {
   "cell_type": "code",
   "execution_count": 49,
   "metadata": {},
   "outputs": [],
   "source": [
    "for n, batch in enumerate(iterator):\n",
    "    labels = batch[0]\n",
    "    nnInput = batch[1:]\n",
    "    #print(nnInput, labels)\n",
    "    model.train_on_batch(nnInput, labels)\n",
    "    if n > 2:\n",
    "        break"
   ]
  },
  {
   "cell_type": "markdown",
   "metadata": {},
   "source": [
    "## Guardar modelo entrenado"
   ]
  },
  {
   "cell_type": "code",
   "execution_count": 50,
   "metadata": {},
   "outputs": [],
   "source": [
    "savePath = \"./testModel.h5\"\n",
    "model.save(savePath, False)\n",
    "import json\n",
    "import h5py\n",
    "mappingsJson = json.dumps(dataset['mappings'])\n",
    "with h5py.File(savePath, 'a') as h5file:\n",
    "    h5file.attrs['mappings'] = mappingsJson"
   ]
  },
  {
   "cell_type": "code",
   "execution_count": 55,
   "metadata": {},
   "outputs": [],
   "source": [
    "model = keras.models.load_model(savePath)\n",
    "with h5py.File(savePath, 'r') as f:\n",
    "    mappings = json.loads(f.attrs['mappings'])"
   ]
  },
  {
   "cell_type": "code",
   "execution_count": 68,
   "metadata": {},
   "outputs": [
    {
     "data": {
      "text/plain": [
       "array([[149,   0,   0,   0,   0,   0,   0,   0,   3,   3,   3,   3,   3,\n",
       "          3,   3,   3,   3,   3,   3,   3,   3,   3,   3,   3,   3,   3,\n",
       "          3,   3,   3,   3,   3,   3,   3,   3,   3,   3,   3,   3,   3,\n",
       "          3,   3,   3,   3,   3,   3,   3,   3,   3,   3,   3,   3,   3,\n",
       "          3,   3,   3,   3,   3,   3,   3,   3,   3,   3,   3,   3,   3,\n",
       "          3,   3,   3,   3,   3,   3,   3,   3,   3,   3,   3,   3,   3,\n",
       "          3,   3,   3,   3,   3,   3,   3,   3,   3,   3,   3,   3,   3,\n",
       "          3,   3,   3,   3,   3,   3,   3,   3,   3,   3,   3,   3,   3,\n",
       "          3,   3,   3,   3,   3,   3,   3,   3,   3,   3,   3,   3,   3,\n",
       "          3,   3,   3,   3,   3,   3,   3,   3,   3,   3,   3,   3,   3,\n",
       "          3,   3,   3,   3,   3,   3,   3,   3,   3,   3,   3,   3,   3,\n",
       "          3,   3,   3,   3,   3,   3,   3,   3,   3,   3,   3,   3,   3,\n",
       "          3,   3,   3,   3,   3,   3,   3,   3,   3,   3,   3,   3,   3,\n",
       "          3,   3,   3,   3,   3,   3,   3,   3,   3,   3,   3,   3,   3,\n",
       "          3,   3,   3,   3,   3,   3,   3,   3,   3,   3,   3,   3,   3,\n",
       "          3,   3,   3,   3,   3,   3,   3,   3,   3,   3,   3,   3,   3,\n",
       "          3,   3,   3,   3,   3,   3,   3,   3,   3,   3,   3,   3,   3,\n",
       "          3,   3,   3,   3,   3,   3,   3,   3,   3,   3,   3,   3,   3,\n",
       "          3,   3,   3,   3,   3,   3,   3,   3,   3,   3,   3,   3,   3,\n",
       "          3,   3,   3,   3,   3,   3,   3,   3,   3,   3,   3,   3,   3,\n",
       "          3,   3,   3,   3,   3,   3,   3,   3,   3,   3,   3,   3,   3,\n",
       "          3,   3,   3,   3,   3,   3,   3,   3,   3,   3,   3,   3,   3,\n",
       "          3,   3,   3,   3,   3,   3,   3,   3,   3,   3,   3,   3,   3,\n",
       "          3,   3,   3,   3,   3,   3,   3,   3,   3,   3,   3,   3,   3,\n",
       "          3,   3,   3,   3,   3,   3,   3,   3,   3,   3,   3,   3,   3,\n",
       "          3,   3,   3,   3,   3,   3,   3,   3,   3,   3,   3,   3,   3,\n",
       "          3,   3,   3,   3,   3,   3,   3,   3,   3,   3,   3,   3,   3,\n",
       "          3,   3,   3,   3,   3,   3,   3,   3,   3,   3,   3,   3,   3,\n",
       "          3,   3,   3,   3,   3,   3,   3,   3,   3,   3,   3,   3,   3,\n",
       "          3,   3,   3,   3,   3,   3,   3,   3,   3,   3,   3,   3,   3,\n",
       "          3,   3,   3,   3,   3,   3,   3,   3,   3,   3,   3,   3,   3,\n",
       "          3,   3,   3,   3,   3,   3,   3,   3,   3,   3,   3,   3,   3,\n",
       "          3,   3,   3,   3,   3,   3,   3,   3,   3,   3,   3,   3,   3,\n",
       "          3,   3,   3,   3,   3,   3,   3,   3,   3,   3,   3,   3,   3,\n",
       "          3,   3,   3,   3,   3,   3,   3,   3,   3,   3,   3,   3,   3,\n",
       "          3,   3,   3,   3,   3,   3,   3,   3,   3,   3,   3,   3,   3,\n",
       "          3,   3,   3,   3,   3,   3,   3,   3,   3,   3,   3,   3,   3,\n",
       "          3,   3,   3,   3,   3,   3,   3,   3,   3,   3,   3,   3,   3,\n",
       "          3,   3,   3,   3,   3,   3,   3,   3,   3,   3,   3,   3,   3,\n",
       "          3,   3,   3,   3,   3,   3,   3,   3,   3,   3,   3,   3,   3,\n",
       "          3,   3,   3,   3,   3,   3,   3,   3,   3,   3,   3,   3,   3,\n",
       "          3,   3,   3,   3,   3,   3,   3,   3,   3,   3,   3,   3,   3,\n",
       "          3,   3,   3,   3,   3]])"
      ]
     },
     "execution_count": 68,
     "metadata": {},
     "output_type": "execute_result"
    }
   ],
   "source": [
    "model.predict(nnInput, verbose=False).argmax(axis=-1)"
   ]
  },
  {
   "cell_type": "code",
   "execution_count": null,
   "metadata": {},
   "outputs": [],
   "source": []
  }
 ],
 "metadata": {
  "kernelspec": {
   "display_name": "am_python2.7",
   "language": "python",
   "name": "am_python2.7"
  },
  "language_info": {
   "codemirror_mode": {
    "name": "ipython",
    "version": 2
   },
   "file_extension": ".py",
   "mimetype": "text/x-python",
   "name": "python",
   "nbconvert_exporter": "python",
   "pygments_lexer": "ipython2",
   "version": "2.7.12"
  }
 },
 "nbformat": 4,
 "nbformat_minor": 2
}
